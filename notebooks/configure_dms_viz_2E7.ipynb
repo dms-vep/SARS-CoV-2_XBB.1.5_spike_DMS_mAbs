{
 "cells": [
  {
   "cell_type": "markdown",
   "id": "6f4b8ac5-ff40-4449-a326-d63651e0d828",
   "metadata": {},
   "source": [
    "# Configure structure based analysis for `dms-viz`"
   ]
  },
  {
   "cell_type": "markdown",
   "id": "c371f68d-0e22-4188-8fca-11c78d6554d3",
   "metadata": {},
   "source": [
    "Imports:"
   ]
  },
  {
   "cell_type": "code",
   "execution_count": null,
   "id": "52955e16-8de2-4385-a985-932a8a6a0beb",
   "metadata": {},
   "outputs": [],
   "source": [
    "import gzip\n",
    "import os\n",
    "import requests\n",
    "import subprocess\n",
    "import textwrap\n",
    "import warnings\n",
    "\n",
    "import Bio.PDB.PDBParser\n",
    "import Bio.PDB.Polypeptide\n",
    "\n",
    "import pandas as pd"
   ]
  },
  {
   "cell_type": "markdown",
   "id": "27c25a7d-3439-460c-84c0-13599a4fbb80",
   "metadata": {},
   "source": [
    "Define variables. This next cell is tagged `parameters` for `papermill` parameterization:"
   ]
  },
  {
   "cell_type": "code",
   "execution_count": null,
   "id": "0a26981c-1c55-4ed1-ab17-18ff6ca585b5",
   "metadata": {
    "editable": true,
    "slideshow": {
     "slide_type": ""
    },
    "tags": [
     "parameters"
    ]
   },
   "outputs": [],
   "source": [
    "pdb_id = None\n",
    "phenotypes_csv = None\n",
    "site_numbering_map = None\n",
    "dms_viz_json = None\n",
    "dms_viz_phenotypes = None\n",
    "pdb_file = None\n",
    "dms_viz_subdir = None\n",
    "chains = None"
   ]
  },
  {
   "cell_type": "markdown",
   "id": "36204609-74f7-488c-98dd-4da325d99f16",
   "metadata": {},
   "source": [
    "Read the phenotypes: "
   ]
  },
  {
   "cell_type": "code",
   "execution_count": null,
   "id": "6d5bfb2d-fed2-4213-86b9-e915f4ff9511",
   "metadata": {},
   "outputs": [],
   "source": [
    "phenotypes = pd.read_csv(phenotypes_csv)\n",
    "\n",
    "wts = phenotypes[[\"site\", \"wildtype\"]].drop_duplicates()\n",
    "# I've got insertion at 16a so I have to drop and convert to numeric\n",
    "# Convert to numeric, setting non-numeric to NaN\n",
    "wts['site'] = pd.to_numeric(wts['site'], errors='coerce')\n",
    "\n",
    "# Drop rows with NaN in 'site'\n",
    "wts = wts.dropna(subset=['site'])\n",
    "\n",
    "# Convert from float to int if needed\n",
    "wts['site'] = wts['site'].astype(int)"
   ]
  },
  {
   "cell_type": "markdown",
   "id": "fe8a3bb1-f557-43b2-9ce9-0418aaa63928",
   "metadata": {},
   "source": [
    "Get the biological assembly (see https://pdb101.rcsb.org/learn/guide-to-understanding-pdb-data/biological-assemblies#Anchor-download) as the crystallographic unit doesn't correspond to that:"
   ]
  },
  {
   "cell_type": "code",
   "execution_count": null,
   "id": "4c2afd40-067f-462e-88d6-d3128dd57ff2",
   "metadata": {},
   "outputs": [],
   "source": [
    "r = requests.get(f\"https://files.rcsb.org/download/{pdb_id}.pdb1.gz\")\n",
    "assert r.status_code == 200\n",
    "pdb_content = gzip.decompress(r.content).decode(\"utf-8\")\n",
    "with open(pdb_file, \"w\") as f:\n",
    "    f.write(pdb_content)"
   ]
  },
  {
   "cell_type": "markdown",
   "id": "b6bbef2e-e52d-4735-9e8e-d5401ebb9f36",
   "metadata": {},
   "source": [
    "Check the sites mismatched between the sitemap and the protein structure in terms of residue identity:"
   ]
  },
  {
   "cell_type": "code",
   "execution_count": null,
   "id": "7e1ec117-3166-471d-8485-602ab384b50f",
   "metadata": {},
   "outputs": [],
   "source": [
    "with warnings.catch_warnings():\n",
    "    warnings.simplefilter(\"ignore\")\n",
    "    pdb_obj = Bio.PDB.PDBParser().get_structure(id=pdb_id, file=pdb_file)[0]\n",
    "\n",
    "records = []\n",
    "for chain in [\"A\",\"B\",\"C\"]:\n",
    "    for res in pdb_obj[chain].get_residues():\n",
    "        if not res.id[0].isspace():\n",
    "            continue\n",
    "        aa = Bio.PDB.Polypeptide.protein_letters_3to1[res.resname]\n",
    "        r = res.id[1]\n",
    "        records.append((chain, r, aa))\n",
    "pdb_df = pd.DataFrame(records, columns=[\"chains\", \"site\", \"pdb_aa\"])\n",
    "\n",
    "mismatched_sites = wts.merge(pdb_df, how=\"left\")\n",
    "\n",
    "print(\n",
    "    f\"Of {len(wts)} sites, {len(mismatched_sites.query('wildtype == pdb_aa'))} match, \"\n",
    "    f\"{len(mismatched_sites.query('pdb_aa.isnull()'))} are missing from PDB, and \"\n",
    "    f\"{len(mismatched_sites.query('pdb_aa.notnull()').query('wildtype != pdb_aa'))} differ.\"\n",
    ")\n",
    "\n",
    "print(\"Sites that differ:\")\n",
    "display(mismatched_sites.query(\"pdb_aa.notnull() and (wildtype != pdb_aa)\").reset_index(drop=True))"
   ]
  },
  {
   "cell_type": "markdown",
   "id": "9f5dd45f-1627-425d-8cb2-63f5f103dcea",
   "metadata": {},
   "source": [
    "Write CSV with phenotypes:"
   ]
  },
  {
   "cell_type": "code",
   "execution_count": null,
   "id": "0b553108-b3d1-4a0e-9c14-ca54ff3cb4c1",
   "metadata": {},
   "outputs": [],
   "source": [
    "phenotypes = (\n",
    "    phenotypes\n",
    "    .assign(mutation=lambda x: x[\"wildtype\"] + x[\"site\"].astype(str) + x[\"mutant\"])\n",
    "    .rename(columns={c: c.replace(\" \", \"_\") for c in phenotypes.columns})\n",
    ")\n",
    "\n",
    "print(f\"Phenotypes has following columns: {phenotypes.columns.tolist()}\")\n",
    "\n",
    "phenotypes.to_csv(dms_viz_phenotypes, index=False)"
   ]
  },
  {
   "cell_type": "markdown",
   "id": "00e1953c-bd3f-40fc-83a5-84233be74526",
   "metadata": {},
   "source": [
    "Run [configure-dms-viz](https://dms-viz.github.io/dms-viz-docs/preparing-data/command-line-api/).\n",
    "First, set up some options:"
   ]
  },
  {
   "cell_type": "code",
   "execution_count": null,
   "id": "a9981c6d-810e-4f7a-aea0-fb5348a2e8e6",
   "metadata": {},
   "outputs": [],
   "source": [
    "phenotype_cols = {\n",
    "    # phenotype columns and additional arguments to `configure-dms-viz`\n",
    "    \"R568_2E7\": [\"--floor\", \"True\", \"--summary-stat\", \"sum\"]\n",
    "}\n",
    "\n",
    "# additional tooltips to show\n",
    "tooltip_cols = {\n",
    "    c: c.replace(\"_\", \" \")\n",
    "    for c in list(phenotype_cols) + [\"mutation\", \"ACE2_binding\", \"spike_mediated_entry\"]\n",
    "}\n",
    "\n",
    "assert set(tooltip_cols).issubset(phenotypes.columns), f\"{tooltip_cols=}\\n{phenotypes.columns=}\"\n",
    "\n",
    "filter_limits = {\n",
    "    \"spike_mediated_entry\": [float(phenotypes[\"spike_mediated_entry\"].min()), -3, 0],\n",
    "    \"ACE2_binding\": [float(phenotypes[\"ACE2_binding\"].min()), -3, 0],\n",
    "}\n",
    "filter_cols = list(filter_limits)"
   ]
  },
  {
   "cell_type": "markdown",
   "id": "24568692-0e78-411a-b601-15f9ac8d81b2",
   "metadata": {},
   "source": [
    "Now make the JSONs for each phenotype, and then combine them:"
   ]
  },
  {
   "cell_type": "code",
   "execution_count": null,
   "id": "3a09e88c-96dd-4eb7-afae-cadcdaccdc70",
   "metadata": {
    "scrolled": true
   },
   "outputs": [],
   "source": [
    "pheno_jsons = []\n",
    "for pheno_col, pheno_args in phenotype_cols.items():\n",
    "    pheno_json = os.path.join(dms_viz_subdir, f\"{pheno_col}.json\")\n",
    "    print(f\"Writing phenotype {pheno_col} to {pheno_json}\")\n",
    "    cmds = [\n",
    "        \"configure-dms-viz\", \"format\",\n",
    "        \"--name\", pheno_col,\n",
    "        \"--input\", dms_viz_phenotypes,\n",
    "        \"--metric\", pheno_col,\n",
    "        \"--structure\", pdb_file,\n",
    "        \"--sitemap\", site_numbering_map,\n",
    "        \"--included-chains\", \" \".join(chains.split(\",\")),\n",
    "        \"--tooltip-cols\", str({k: v for (k, v) in tooltip_cols.items() if k != pheno_col}),\n",
    "        \"--alphabet\", \"RKHDEQNSTYWFAILMVGPC-\",\n",
    "        \"--output\", pheno_json,\n",
    "        \"--colors\" , \"#F02D3A\",\n",
    "        \"--title\", f\"Effects of mutations to XBB.1.5 spike on {pheno_col} escape\",\n",
    "        \"--description\", pheno_col,\n",
    "        *pheno_args,\n",
    "    ]\n",
    "    pheno_filter_cols = {c: c for c in filter_cols if c != pheno_col}\n",
    "    if pheno_filter_cols:\n",
    "        cmds += [\"--filter-cols\", str(pheno_filter_cols)]\n",
    "        cmds += [\"--filter-limits\", str({c: filter_limits[c] for c in pheno_filter_cols})]\n",
    "    result = subprocess.run(cmds, capture_output=True, text=True)\n",
    "    if result.returncode != 0:\n",
    "        raise ValueError(f\"Error running configure-dms-viz:\\n\\n{result.args=}\\n\\n{result.stdout=}\\n\\n{result.stderr=}\\n\")\n",
    "    pheno_jsons.append(pheno_json)\n",
    "\n",
    "markdown_description = os.path.join(dms_viz_subdir, \"description.md\")\n",
    "with open(markdown_description, \"w\") as f:\n",
    "    f.write(\n",
    "        textwrap.dedent(\n",
    "            \"\"\"\\\n",
    "            # Effects of mutations to XBB.1.5 spike on escape from R568-2E7 mAb.\n",
    "            \"\"\"\n",
    "        )\n",
    "    )\n",
    "\n",
    "print(f\"Concatenating phenotype JSONs to {dms_viz_json}\")\n",
    "subprocess.run(\n",
    "    [\n",
    "        \"configure-dms-viz\", \"join\",\n",
    "        \"--input\", \", \".join(pheno_jsons),\n",
    "        \"--output\", dms_viz_json,\n",
    "        \"--description\", markdown_description,\n",
    "    ],\n",
    "    check=True,\n",
    ")"
   ]
  }
 ],
 "metadata": {
  "kernelspec": {
   "display_name": "Python 3 (ipykernel)",
   "language": "python",
   "name": "python3"
  },
  "language_info": {
   "codemirror_mode": {
    "name": "ipython",
    "version": 3
   },
   "file_extension": ".py",
   "mimetype": "text/x-python",
   "name": "python",
   "nbconvert_exporter": "python",
   "pygments_lexer": "ipython3",
   "version": "3.12.8"
  }
 },
 "nbformat": 4,
 "nbformat_minor": 5
}
